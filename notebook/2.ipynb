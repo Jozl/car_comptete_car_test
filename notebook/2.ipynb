{
 "cells": [
  {
   "cell_type": "code",
   "execution_count": 22,
   "metadata": {
    "collapsed": true
   },
   "outputs": [],
   "source": [
    "import os\n",
    "import glob\n",
    "import pandas as pd\n",
    "import numpy as np\n",
    "from sklearn import svm\n",
    "from codes.data import data_word2num"
   ]
  },
  {
   "cell_type": "code",
   "execution_count": 8,
   "outputs": [
    {
     "data": {
      "text/plain": "['data', 'code', '.gitignore', 'notebook', 'codes', 'utils']"
     },
     "execution_count": 8,
     "metadata": {},
     "output_type": "execute_result"
    }
   ],
   "source": [
    "os.listdir()"
   ],
   "metadata": {
    "collapsed": false,
    "pycharm": {
     "name": "#%%\n"
    }
   }
  },
  {
   "cell_type": "code",
   "execution_count": 18,
   "outputs": [
    {
     "data": {
      "text/plain": "      车号  Label          CollectTime\n0      1      1  2020-08-30 21:36:09\n1      2      0                  NaN\n2      3      1  2020-08-12 08:36:46\n3      4      0                  NaN\n4      5      1  2021-01-06 16:24:21\n..   ...    ...                  ...\n113  116      0                  NaN\n114  117      0                  NaN\n115  118      0                  NaN\n116  119      1  2021-01-07 12:46:23\n117  120      1  2020-09-02 02:21:48\n\n[118 rows x 3 columns]",
      "text/html": "<div>\n<style scoped>\n    .dataframe tbody tr th:only-of-type {\n        vertical-align: middle;\n    }\n\n    .dataframe tbody tr th {\n        vertical-align: top;\n    }\n\n    .dataframe thead th {\n        text-align: right;\n    }\n</style>\n<table border=\"1\" class=\"dataframe\">\n  <thead>\n    <tr style=\"text-align: right;\">\n      <th></th>\n      <th>车号</th>\n      <th>Label</th>\n      <th>CollectTime</th>\n    </tr>\n  </thead>\n  <tbody>\n    <tr>\n      <th>0</th>\n      <td>1</td>\n      <td>1</td>\n      <td>2020-08-30 21:36:09</td>\n    </tr>\n    <tr>\n      <th>1</th>\n      <td>2</td>\n      <td>0</td>\n      <td>NaN</td>\n    </tr>\n    <tr>\n      <th>2</th>\n      <td>3</td>\n      <td>1</td>\n      <td>2020-08-12 08:36:46</td>\n    </tr>\n    <tr>\n      <th>3</th>\n      <td>4</td>\n      <td>0</td>\n      <td>NaN</td>\n    </tr>\n    <tr>\n      <th>4</th>\n      <td>5</td>\n      <td>1</td>\n      <td>2021-01-06 16:24:21</td>\n    </tr>\n    <tr>\n      <th>...</th>\n      <td>...</td>\n      <td>...</td>\n      <td>...</td>\n    </tr>\n    <tr>\n      <th>113</th>\n      <td>116</td>\n      <td>0</td>\n      <td>NaN</td>\n    </tr>\n    <tr>\n      <th>114</th>\n      <td>117</td>\n      <td>0</td>\n      <td>NaN</td>\n    </tr>\n    <tr>\n      <th>115</th>\n      <td>118</td>\n      <td>0</td>\n      <td>NaN</td>\n    </tr>\n    <tr>\n      <th>116</th>\n      <td>119</td>\n      <td>1</td>\n      <td>2021-01-07 12:46:23</td>\n    </tr>\n    <tr>\n      <th>117</th>\n      <td>120</td>\n      <td>1</td>\n      <td>2020-09-02 02:21:48</td>\n    </tr>\n  </tbody>\n</table>\n<p>118 rows × 3 columns</p>\n</div>"
     },
     "execution_count": 18,
     "metadata": {},
     "output_type": "execute_result"
    }
   ],
   "source": [
    "train_labels = 'data/train_labels.csv'\n",
    "train_labels_df = pd.read_csv(train_labels)\n",
    "\n",
    "train_labels_df"
   ],
   "metadata": {
    "collapsed": false,
    "pycharm": {
     "name": "#%%\n"
    }
   }
  },
  {
   "cell_type": "code",
   "execution_count": 10,
   "outputs": [],
   "source": [
    "train_files = glob.glob('data/train/*.csv')\n",
    "train_files.sort()"
   ],
   "metadata": {
    "collapsed": false,
    "pycharm": {
     "name": "#%%\n"
    }
   }
  },
  {
   "cell_type": "code",
   "execution_count": 11,
   "outputs": [
    {
     "data": {
      "text/plain": "       车号                 采集时间  加速踏板位置 电池包主负继电器状态 电池包主正继电器状态 制动踏板状态  \\\n2       1  2020-08-28 06:33:14     0.0         断开         断开     未踩   \n5       1  2020-08-28 10:43:40     0.0         断开         断开     未踩   \n6       1  2020-08-28 10:33:32     0.0         断开         断开     未踩   \n7       1  2020-08-28 10:33:40     0.0         断开         断开     未踩   \n8       1  2020-08-28 10:33:44     0.0         断开         断开     未踩   \n...    ..                  ...     ...        ...        ...    ...   \n25452   1  2020-08-31 16:59:51    12.0         断开         断开     未踩   \n25458   1  2020-08-31 17:00:34    12.0         断开         断开     未踩   \n25464   1  2020-08-31 17:01:07    13.0         断开         断开     未踩   \n25465   1  2020-08-31 17:01:26    15.0         断开         断开     未踩   \n25467   1  2020-08-31 17:01:36    15.0         断开         断开     未踩   \n\n          驾驶员离开提示 主驾驶座占用状态 驾驶员安全带状态  驾驶员需求扭矩值  手刹状态 整车钥匙状态  低压蓄电池电压 整车当前档位状态  \\\n2      No Warning       空置       未系       0.0  手刹拉起    OFF    12.43       空档   \n5      No Warning       空置       未系       0.0  手刹拉起    OFF    12.43       空档   \n6      No Warning       空置       未系       0.0  手刹拉起    OFF    12.48       空档   \n7      No Warning       空置       未系       0.0  手刹拉起    OFF    12.43       空档   \n8      No Warning       空置       未系       0.0  手刹拉起    OFF    12.43       空档   \n...           ...      ...      ...       ...   ...    ...      ...      ...   \n25452  No Warning       空置       未系       0.0  手刹拉起    OFF     1.17       空档   \n25458  No Warning       空置       未系       0.0  手刹拉起    OFF     1.17       空档   \n25464  No Warning       空置       未系       0.0  手刹拉起    OFF     1.13       空档   \n25465  No Warning       空置       未系       0.0  手刹拉起    OFF     0.82       空档   \n25467  No Warning       空置       未系       0.0  手刹拉起    OFF     0.75       空档   \n\n       整车当前总电流  整车当前总电压  车辆行驶里程   车速  方向盘转角  \n2          0.0    123.2  7662.0  0.0    0.0  \n5          0.0    123.2  7662.0  0.0    0.0  \n6          0.0    123.2  7662.0  0.0    0.0  \n7          0.0    123.2  7662.0  0.0    0.0  \n8          0.0    123.2  7662.0  0.0    0.0  \n...        ...      ...     ...  ...    ...  \n25452      0.0      0.0  7682.0  0.0    0.0  \n25458      0.0      0.0  7682.0  0.0    0.0  \n25464      0.0      0.0  7682.0  0.0    0.0  \n25465      0.0    120.7  7682.0  0.0    0.0  \n25467      0.0      0.0  7682.0  0.0    0.0  \n\n[15816 rows x 19 columns]",
      "text/html": "<div>\n<style scoped>\n    .dataframe tbody tr th:only-of-type {\n        vertical-align: middle;\n    }\n\n    .dataframe tbody tr th {\n        vertical-align: top;\n    }\n\n    .dataframe thead th {\n        text-align: right;\n    }\n</style>\n<table border=\"1\" class=\"dataframe\">\n  <thead>\n    <tr style=\"text-align: right;\">\n      <th></th>\n      <th>车号</th>\n      <th>采集时间</th>\n      <th>加速踏板位置</th>\n      <th>电池包主负继电器状态</th>\n      <th>电池包主正继电器状态</th>\n      <th>制动踏板状态</th>\n      <th>驾驶员离开提示</th>\n      <th>主驾驶座占用状态</th>\n      <th>驾驶员安全带状态</th>\n      <th>驾驶员需求扭矩值</th>\n      <th>手刹状态</th>\n      <th>整车钥匙状态</th>\n      <th>低压蓄电池电压</th>\n      <th>整车当前档位状态</th>\n      <th>整车当前总电流</th>\n      <th>整车当前总电压</th>\n      <th>车辆行驶里程</th>\n      <th>车速</th>\n      <th>方向盘转角</th>\n    </tr>\n  </thead>\n  <tbody>\n    <tr>\n      <th>2</th>\n      <td>1</td>\n      <td>2020-08-28 06:33:14</td>\n      <td>0.0</td>\n      <td>断开</td>\n      <td>断开</td>\n      <td>未踩</td>\n      <td>No Warning</td>\n      <td>空置</td>\n      <td>未系</td>\n      <td>0.0</td>\n      <td>手刹拉起</td>\n      <td>OFF</td>\n      <td>12.43</td>\n      <td>空档</td>\n      <td>0.0</td>\n      <td>123.2</td>\n      <td>7662.0</td>\n      <td>0.0</td>\n      <td>0.0</td>\n    </tr>\n    <tr>\n      <th>5</th>\n      <td>1</td>\n      <td>2020-08-28 10:43:40</td>\n      <td>0.0</td>\n      <td>断开</td>\n      <td>断开</td>\n      <td>未踩</td>\n      <td>No Warning</td>\n      <td>空置</td>\n      <td>未系</td>\n      <td>0.0</td>\n      <td>手刹拉起</td>\n      <td>OFF</td>\n      <td>12.43</td>\n      <td>空档</td>\n      <td>0.0</td>\n      <td>123.2</td>\n      <td>7662.0</td>\n      <td>0.0</td>\n      <td>0.0</td>\n    </tr>\n    <tr>\n      <th>6</th>\n      <td>1</td>\n      <td>2020-08-28 10:33:32</td>\n      <td>0.0</td>\n      <td>断开</td>\n      <td>断开</td>\n      <td>未踩</td>\n      <td>No Warning</td>\n      <td>空置</td>\n      <td>未系</td>\n      <td>0.0</td>\n      <td>手刹拉起</td>\n      <td>OFF</td>\n      <td>12.48</td>\n      <td>空档</td>\n      <td>0.0</td>\n      <td>123.2</td>\n      <td>7662.0</td>\n      <td>0.0</td>\n      <td>0.0</td>\n    </tr>\n    <tr>\n      <th>7</th>\n      <td>1</td>\n      <td>2020-08-28 10:33:40</td>\n      <td>0.0</td>\n      <td>断开</td>\n      <td>断开</td>\n      <td>未踩</td>\n      <td>No Warning</td>\n      <td>空置</td>\n      <td>未系</td>\n      <td>0.0</td>\n      <td>手刹拉起</td>\n      <td>OFF</td>\n      <td>12.43</td>\n      <td>空档</td>\n      <td>0.0</td>\n      <td>123.2</td>\n      <td>7662.0</td>\n      <td>0.0</td>\n      <td>0.0</td>\n    </tr>\n    <tr>\n      <th>8</th>\n      <td>1</td>\n      <td>2020-08-28 10:33:44</td>\n      <td>0.0</td>\n      <td>断开</td>\n      <td>断开</td>\n      <td>未踩</td>\n      <td>No Warning</td>\n      <td>空置</td>\n      <td>未系</td>\n      <td>0.0</td>\n      <td>手刹拉起</td>\n      <td>OFF</td>\n      <td>12.43</td>\n      <td>空档</td>\n      <td>0.0</td>\n      <td>123.2</td>\n      <td>7662.0</td>\n      <td>0.0</td>\n      <td>0.0</td>\n    </tr>\n    <tr>\n      <th>...</th>\n      <td>...</td>\n      <td>...</td>\n      <td>...</td>\n      <td>...</td>\n      <td>...</td>\n      <td>...</td>\n      <td>...</td>\n      <td>...</td>\n      <td>...</td>\n      <td>...</td>\n      <td>...</td>\n      <td>...</td>\n      <td>...</td>\n      <td>...</td>\n      <td>...</td>\n      <td>...</td>\n      <td>...</td>\n      <td>...</td>\n      <td>...</td>\n    </tr>\n    <tr>\n      <th>25452</th>\n      <td>1</td>\n      <td>2020-08-31 16:59:51</td>\n      <td>12.0</td>\n      <td>断开</td>\n      <td>断开</td>\n      <td>未踩</td>\n      <td>No Warning</td>\n      <td>空置</td>\n      <td>未系</td>\n      <td>0.0</td>\n      <td>手刹拉起</td>\n      <td>OFF</td>\n      <td>1.17</td>\n      <td>空档</td>\n      <td>0.0</td>\n      <td>0.0</td>\n      <td>7682.0</td>\n      <td>0.0</td>\n      <td>0.0</td>\n    </tr>\n    <tr>\n      <th>25458</th>\n      <td>1</td>\n      <td>2020-08-31 17:00:34</td>\n      <td>12.0</td>\n      <td>断开</td>\n      <td>断开</td>\n      <td>未踩</td>\n      <td>No Warning</td>\n      <td>空置</td>\n      <td>未系</td>\n      <td>0.0</td>\n      <td>手刹拉起</td>\n      <td>OFF</td>\n      <td>1.17</td>\n      <td>空档</td>\n      <td>0.0</td>\n      <td>0.0</td>\n      <td>7682.0</td>\n      <td>0.0</td>\n      <td>0.0</td>\n    </tr>\n    <tr>\n      <th>25464</th>\n      <td>1</td>\n      <td>2020-08-31 17:01:07</td>\n      <td>13.0</td>\n      <td>断开</td>\n      <td>断开</td>\n      <td>未踩</td>\n      <td>No Warning</td>\n      <td>空置</td>\n      <td>未系</td>\n      <td>0.0</td>\n      <td>手刹拉起</td>\n      <td>OFF</td>\n      <td>1.13</td>\n      <td>空档</td>\n      <td>0.0</td>\n      <td>0.0</td>\n      <td>7682.0</td>\n      <td>0.0</td>\n      <td>0.0</td>\n    </tr>\n    <tr>\n      <th>25465</th>\n      <td>1</td>\n      <td>2020-08-31 17:01:26</td>\n      <td>15.0</td>\n      <td>断开</td>\n      <td>断开</td>\n      <td>未踩</td>\n      <td>No Warning</td>\n      <td>空置</td>\n      <td>未系</td>\n      <td>0.0</td>\n      <td>手刹拉起</td>\n      <td>OFF</td>\n      <td>0.82</td>\n      <td>空档</td>\n      <td>0.0</td>\n      <td>120.7</td>\n      <td>7682.0</td>\n      <td>0.0</td>\n      <td>0.0</td>\n    </tr>\n    <tr>\n      <th>25467</th>\n      <td>1</td>\n      <td>2020-08-31 17:01:36</td>\n      <td>15.0</td>\n      <td>断开</td>\n      <td>断开</td>\n      <td>未踩</td>\n      <td>No Warning</td>\n      <td>空置</td>\n      <td>未系</td>\n      <td>0.0</td>\n      <td>手刹拉起</td>\n      <td>OFF</td>\n      <td>0.75</td>\n      <td>空档</td>\n      <td>0.0</td>\n      <td>0.0</td>\n      <td>7682.0</td>\n      <td>0.0</td>\n      <td>0.0</td>\n    </tr>\n  </tbody>\n</table>\n<p>15816 rows × 19 columns</p>\n</div>"
     },
     "execution_count": 11,
     "metadata": {},
     "output_type": "execute_result"
    }
   ],
   "source": [
    "collect_time_list = []\n",
    "label_list = []\n",
    "\n",
    "for train_file in train_files:\n",
    "    train_df = pd.read_csv(train_file).dropna()\n",
    "\n",
    "    collect_time = train_labels_df[\n",
    "        train_labels_df['车号'] == train_df['车号'].values[0]\n",
    "    ]['CollectTime'].values[0]\n",
    "\n",
    "    label = train_labels_df[\n",
    "        train_labels_df['车号'] == train_df['车号'].values[0]\n",
    "    ]['Label'].values[0]\n",
    "\n",
    "    positive_index = train_df[\n",
    "        train_df['采集时间'] == collect_time\n",
    "    ].index.values[0]\n",
    "\n",
    "    index_list = train_df.index.tolist()\n",
    "    positive_index = index_list.index(positive_index)\n",
    "\n",
    "    train_list = train_df.values.tolist()\n",
    "\n",
    "    train_list = list(map(lambda x:data_word2num(x), train_list))\n",
    "    "
   ],
   "metadata": {
    "collapsed": false,
    "pycharm": {
     "name": "#%%\n"
    }
   }
  },
  {
   "cell_type": "code",
   "execution_count": null,
   "outputs": [],
   "source": [
    "clf = svm.SVC()\n",
    "data_train = list(map(lambda x: x[2:], train_list))\n",
    "label_train ="
   ],
   "metadata": {
    "collapsed": false,
    "pycharm": {
     "name": "#%%\n"
    }
   }
  }
 ],
 "metadata": {
  "kernelspec": {
   "display_name": "Python 3",
   "language": "python",
   "name": "python3"
  },
  "language_info": {
   "codemirror_mode": {
    "name": "ipython",
    "version": 2
   },
   "file_extension": ".py",
   "mimetype": "text/x-python",
   "name": "python",
   "nbconvert_exporter": "python",
   "pygments_lexer": "ipython2",
   "version": "2.7.6"
  }
 },
 "nbformat": 4,
 "nbformat_minor": 0
}